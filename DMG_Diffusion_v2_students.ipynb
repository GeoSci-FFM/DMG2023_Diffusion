{
 "cells": [
  {
   "cell_type": "code",
   "execution_count": 116,
   "metadata": {},
   "outputs": [],
   "source": [
    "from numpy import *\n",
    "import matplotlib.pyplot as plt\n",
    "import time as tt\n",
    "%matplotlib inline\n",
    "from IPython import display"
   ]
  },
  {
   "cell_type": "markdown",
   "metadata": {},
   "source": [
    "## 0. Model domain\n",
    "### Set profile length (80 microns) in cm \n",
    "### Set core length (80 microns) in cm "
   ]
  },
  {
   "cell_type": "code",
   "execution_count": 117,
   "metadata": {},
   "outputs": [],
   "source": [
    "# Correct coefficients for units\n",
    "Lx        = ???           # set length of the apatite profile in cm (same units as length in D0)\n",
    "Lc        = ???           # set length of the core in cm\n",
    "yr        = 60*60*24*365  # a year in seconds"
   ]
  },
  {
   "cell_type": "markdown",
   "metadata": {},
   "source": [
    "## 1. Load data, generate coordinates and visualise \n",
    "### Read the data file into 'Sr_data' variable\n",
    "### Visualise data as function of the coordinate using 'scatter'"
   ]
  },
  {
   "cell_type": "code",
   "execution_count": 2,
   "metadata": {},
   "outputs": [
    {
     "ename": "SyntaxError",
     "evalue": "invalid syntax (4225817767.py, line 2)",
     "output_type": "error",
     "traceback": [
      "\u001b[0;36m  Cell \u001b[0;32mIn[2], line 2\u001b[0;36m\u001b[0m\n\u001b[0;31m    Sr_data   = ???\u001b[0m\n\u001b[0m                ^\u001b[0m\n\u001b[0;31mSyntaxError\u001b[0m\u001b[0;31m:\u001b[0m invalid syntax\n"
     ]
    }
   ],
   "source": [
    "# Load data using loadtxt\n",
    "Sr_data   = ???\n",
    "# Size of profile\n",
    "n_data    = size(Sr_data) \n",
    "# Generate coordinates\n",
    "x_data    = linspace(-Lx/2, Lx/2, num=n_data)\n",
    "# Plot the data using scatter\n",
    "???"
   ]
  },
  {
   "cell_type": "markdown",
   "metadata": {},
   "source": [
    "## 2. Physical parameters for the simulations\n",
    "### Define the gas constant from 8.314 J/mol/K to unit gram calorie "
   ]
  },
  {
   "cell_type": "code",
   "execution_count": 119,
   "metadata": {},
   "outputs": [],
   "source": [
    "# Physics\n",
    "BC        = 2                   # Boundary conditions (1:Dirichlet, 2:Neumann)\n",
    "C_BC      = 0.06                # Boundary concentration for Dirichlet case\n",
    "D0        = 2.7e-3              # Reference diffusivity in cm2/sec\n",
    "E         = 65e3                # Activation energy in cal per mole\n",
    "R         = ???                 # Gas constant in Gram calorie\n",
    "T         = 1000                # Temperature in Celsius"
   ]
  },
  {
   "cell_type": "markdown",
   "metadata": {},
   "source": [
    "## 3. Numerical parameters\n",
    "### Define resolution (width of one cell)\n",
    "### Define position of cell centers (including the 2 extra nodes for east and west boundaries) "
   ]
  },
  {
   "cell_type": "code",
   "execution_count": 120,
   "metadata": {},
   "outputs": [],
   "source": [
    "# Numerics\n",
    "nt        = 600                 # Number of time steps\n",
    "ncx       = 100                 # Number of cells\n",
    "dx        = ???                 # Resolution\n",
    "xc        = ???                 # Coordinates of cell centers\n",
    "nout      = 50                  # Will show result each nout step"
   ]
  },
  {
   "cell_type": "markdown",
   "metadata": {},
   "source": [
    "## 4. Preprocessing\n",
    "### Define the diffusion coefficient using temperature dependent diffusivity\n",
    "### Contruct the initial concentration profile: the core has .22 and the rim is 0.05"
   ]
  },
  {
   "cell_type": "code",
   "execution_count": 121,
   "metadata": {},
   "outputs": [],
   "source": [
    "# Preprocessing\n",
    "D         = ???                 # precalculate Diffusion coefficient (eq. 4)\n",
    "# Initialize\n",
    "C         = ???                 # concentration in the rim  of apatite in wt%\n",
    "...\n",
    "C0        = copy(C)             # Save initial for plotting\n",
    "time      = 0                   # Initial time\n",
    "# Maximum time step allowed for diffusion\n",
    "dt  = dx**2/D/2.5               # Courant-Friedrich-Lax criteria\n",
    "err = zeros(nt)                 # Storage for error"
   ]
  },
  {
   "cell_type": "markdown",
   "metadata": {},
   "source": [
    "## 5. Computation\n",
    "### Compute flux \n",
    "### Compute concentration\n",
    "### Code missing boundary conditions\n",
    "### Interpolate synthetic concentration at the location of profile points (using interp()) \n",
    "### Plot synthetic and true concentration \n",
    "### Plot evolution of misfit with time"
   ]
  },
  {
   "cell_type": "code",
   "execution_count": null,
   "metadata": {},
   "outputs": [],
   "source": [
    "plt.ion()\n",
    "fig, ax   = plt.subplots(2,figsize=(10, 8)) # Prepare plot\n",
    "C         = copy(C0)                        # Always start from initial profile ;)\n",
    "# Time steps\n",
    "for it in range(nt):\n",
    "    time    += dt    # update the current time (only for plotting)\n",
    "    J        = ???   # flux\n",
    "    C[1:-1]  = ???   # balance equation\n",
    "    if BC==1:\n",
    "        C[0]   = 2*C_BC - C[1]\n",
    "        C[-1]  = ???\n",
    "    elif BC==2:\n",
    "        C[0]   = ???    # flux BC assuming q_BC = 0.  \n",
    "        C[-1]  = C[-2]\n",
    "    # Misfit\n",
    "    C_data  = interp(x_data, xc, C)\n",
    "    err[it] = linalg.norm(Sr_data - C_data) / linalg.norm(C_data)*100\n",
    "    if it%nout==0:\n",
    "        # Misfit plot\n",
    "        ax[0]. ???\n",
    "        ax[0].set_title('Strontium profile misfit ' + '{:.2f}'.format(err[it]) + '%' )        \n",
    "        ax[0].set_xlabel('Time step [-]')\n",
    "        ax[0].set_ylabel('% error')\n",
    "        # Profile plot\n",
    "        ax[1].clear()\n",
    "        plt. ???\n",
    "        plt. ???\n",
    "        ax[1].set_xlabel('x [cm]')\n",
    "        ax[1].set_ylabel('Strontium in apatite [wt%]')\n",
    "        ax[1].set_title('Profile at time ' + '{:.2f}'.format(time/yr) + ' yr')\n",
    "        plt.tight_layout()\n",
    "        display.clear_output(wait=True)\n",
    "        display.display(plt.gcf())\n",
    "        tt.sleep(0.1)"
   ]
  },
  {
   "cell_type": "markdown",
   "metadata": {},
   "source": [
    "## 6. Systematic analysis\n",
    "### Do model and data fit?\n",
    "### How does the misfit evolve with time?\n",
    "### Which type of boundary conditions provide the best fit?\n",
    "### For temperatures of 600 C, 800 C, 1000 C and 1200 C, what are the durations of diffusion for best-fit? "
   ]
  }
 ],
 "metadata": {
  "kernelspec": {
   "display_name": "Python 3",
   "language": "python",
   "name": "python3"
  },
  "language_info": {
   "codemirror_mode": {
    "name": "ipython",
    "version": 3
   },
   "file_extension": ".py",
   "mimetype": "text/x-python",
   "name": "python",
   "nbconvert_exporter": "python",
   "pygments_lexer": "ipython3",
   "version": "3.9.6"
  },
  "orig_nbformat": 4
 },
 "nbformat": 4,
 "nbformat_minor": 2
}
